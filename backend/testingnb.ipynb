{
 "cells": [
  {
   "cell_type": "code",
   "execution_count": 5,
   "source": [
    "!pwd"
   ],
   "outputs": [
    {
     "output_type": "stream",
     "name": "stdout",
     "text": [
      "/workspaces/CryptoPriceNotifier/backend\n"
     ]
    }
   ],
   "metadata": {}
  },
  {
   "cell_type": "code",
   "execution_count": 6,
   "source": [
    "import pandas as pd\n"
   ],
   "outputs": [],
   "metadata": {}
  },
  {
   "cell_type": "code",
   "execution_count": 7,
   "source": [
    "df = pd.read_csv('baba.csv')\n",
    "df.tail()"
   ],
   "outputs": [
    {
     "output_type": "execute_result",
     "data": {
      "text/html": [
       "<div>\n",
       "<style scoped>\n",
       "    .dataframe tbody tr th:only-of-type {\n",
       "        vertical-align: middle;\n",
       "    }\n",
       "\n",
       "    .dataframe tbody tr th {\n",
       "        vertical-align: top;\n",
       "    }\n",
       "\n",
       "    .dataframe thead th {\n",
       "        text-align: right;\n",
       "    }\n",
       "</style>\n",
       "<table border=\"1\" class=\"dataframe\">\n",
       "  <thead>\n",
       "    <tr style=\"text-align: right;\">\n",
       "      <th></th>\n",
       "      <th>Date</th>\n",
       "      <th>Open</th>\n",
       "      <th>High</th>\n",
       "      <th>Low</th>\n",
       "      <th>Close</th>\n",
       "      <th>Adj Close</th>\n",
       "      <th>Volume</th>\n",
       "      <th>SMA</th>\n",
       "      <th>SMA50</th>\n",
       "      <th>standardeviation</th>\n",
       "      <th>upper</th>\n",
       "      <th>lower</th>\n",
       "      <th>buy_signal</th>\n",
       "      <th>Sell_signal</th>\n",
       "    </tr>\n",
       "  </thead>\n",
       "  <tbody>\n",
       "    <tr>\n",
       "      <th>1799</th>\n",
       "      <td>2021-11-10</td>\n",
       "      <td>163.679993</td>\n",
       "      <td>166.479996</td>\n",
       "      <td>161.820007</td>\n",
       "      <td>163.970001</td>\n",
       "      <td>163.970001</td>\n",
       "      <td>17216800</td>\n",
       "      <td>168.508499</td>\n",
       "      <td>161.9548</td>\n",
       "      <td>5.947107</td>\n",
       "      <td>180.402714</td>\n",
       "      <td>156.614284</td>\n",
       "      <td>False</td>\n",
       "      <td>False</td>\n",
       "    </tr>\n",
       "    <tr>\n",
       "      <th>1800</th>\n",
       "      <td>2021-11-11</td>\n",
       "      <td>166.559998</td>\n",
       "      <td>169.630005</td>\n",
       "      <td>166.559998</td>\n",
       "      <td>167.850006</td>\n",
       "      <td>167.850006</td>\n",
       "      <td>16747500</td>\n",
       "      <td>168.562000</td>\n",
       "      <td>161.8462</td>\n",
       "      <td>5.935541</td>\n",
       "      <td>180.433082</td>\n",
       "      <td>156.690918</td>\n",
       "      <td>False</td>\n",
       "      <td>False</td>\n",
       "    </tr>\n",
       "    <tr>\n",
       "      <th>1801</th>\n",
       "      <td>2021-11-12</td>\n",
       "      <td>165.173996</td>\n",
       "      <td>167.800003</td>\n",
       "      <td>163.399994</td>\n",
       "      <td>166.809998</td>\n",
       "      <td>166.809998</td>\n",
       "      <td>13728200</td>\n",
       "      <td>168.502499</td>\n",
       "      <td>161.7424</td>\n",
       "      <td>5.947424</td>\n",
       "      <td>180.397347</td>\n",
       "      <td>156.607652</td>\n",
       "      <td>False</td>\n",
       "      <td>False</td>\n",
       "    </tr>\n",
       "    <tr>\n",
       "      <th>1802</th>\n",
       "      <td>2021-11-15</td>\n",
       "      <td>167.220001</td>\n",
       "      <td>168.460007</td>\n",
       "      <td>165.669998</td>\n",
       "      <td>166.539993</td>\n",
       "      <td>166.539993</td>\n",
       "      <td>9655700</td>\n",
       "      <td>168.488499</td>\n",
       "      <td>161.6672</td>\n",
       "      <td>5.951921</td>\n",
       "      <td>180.392340</td>\n",
       "      <td>156.584657</td>\n",
       "      <td>False</td>\n",
       "      <td>False</td>\n",
       "    </tr>\n",
       "    <tr>\n",
       "      <th>1803</th>\n",
       "      <td>2021-11-16</td>\n",
       "      <td>168.600006</td>\n",
       "      <td>169.940002</td>\n",
       "      <td>166.669998</td>\n",
       "      <td>168.429993</td>\n",
       "      <td>168.429993</td>\n",
       "      <td>11663982</td>\n",
       "      <td>168.059998</td>\n",
       "      <td>161.5326</td>\n",
       "      <td>5.605295</td>\n",
       "      <td>179.270589</td>\n",
       "      <td>156.849407</td>\n",
       "      <td>False</td>\n",
       "      <td>False</td>\n",
       "    </tr>\n",
       "  </tbody>\n",
       "</table>\n",
       "</div>"
      ],
      "text/plain": [
       "            Date        Open        High         Low       Close   Adj Close  \\\n",
       "1799  2021-11-10  163.679993  166.479996  161.820007  163.970001  163.970001   \n",
       "1800  2021-11-11  166.559998  169.630005  166.559998  167.850006  167.850006   \n",
       "1801  2021-11-12  165.173996  167.800003  163.399994  166.809998  166.809998   \n",
       "1802  2021-11-15  167.220001  168.460007  165.669998  166.539993  166.539993   \n",
       "1803  2021-11-16  168.600006  169.940002  166.669998  168.429993  168.429993   \n",
       "\n",
       "        Volume         SMA     SMA50  standardeviation       upper  \\\n",
       "1799  17216800  168.508499  161.9548          5.947107  180.402714   \n",
       "1800  16747500  168.562000  161.8462          5.935541  180.433082   \n",
       "1801  13728200  168.502499  161.7424          5.947424  180.397347   \n",
       "1802   9655700  168.488499  161.6672          5.951921  180.392340   \n",
       "1803  11663982  168.059998  161.5326          5.605295  179.270589   \n",
       "\n",
       "           lower  buy_signal  Sell_signal  \n",
       "1799  156.614284       False        False  \n",
       "1800  156.690918       False        False  \n",
       "1801  156.607652       False        False  \n",
       "1802  156.584657       False        False  \n",
       "1803  156.849407       False        False  "
      ]
     },
     "metadata": {},
     "execution_count": 7
    }
   ],
   "metadata": {}
  },
  {
   "cell_type": "code",
   "execution_count": null,
   "source": [],
   "outputs": [],
   "metadata": {}
  }
 ],
 "metadata": {
  "orig_nbformat": 4,
  "language_info": {
   "name": "python",
   "version": "3.7.11",
   "mimetype": "text/x-python",
   "codemirror_mode": {
    "name": "ipython",
    "version": 3
   },
   "pygments_lexer": "ipython3",
   "nbconvert_exporter": "python",
   "file_extension": ".py"
  },
  "kernelspec": {
   "name": "python3",
   "display_name": "Python 3.7.11 64-bit"
  },
  "interpreter": {
   "hash": "4cd7ab41f5fca4b9b44701077e38c5ffd31fe66a6cab21e0214b68d958d0e462"
  }
 },
 "nbformat": 4,
 "nbformat_minor": 2
}